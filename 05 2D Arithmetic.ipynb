{
 "cells": [
  {
   "cell_type": "code",
   "execution_count": 1,
   "metadata": {},
   "outputs": [],
   "source": [
    "## 2D Arithmetic"
   ]
  },
  {
   "cell_type": "raw",
   "metadata": {},
   "source": [
    "Remember how you calculated the Body Mass Index for all baseball players? numpy was able to perform all calculations element-wise (i.e. element by element). For 2D numpy arrays this isn't any different! You can combine matrices with single numbers, with vectors, and with other matrices."
   ]
  },
  {
   "cell_type": "raw",
   "metadata": {},
   "source": [
    "Execute the code below in the IPython shell and see if you understand:\n",
    "\n",
    "|   import numpy as np\n",
    "|   np_mat = np.array([[1, 2],\n",
    "|                      [3, 4],\n",
    "|                      [5, 6]])\n",
    "|   np_mat * 2\n",
    "|   np_mat + np.array([10, 10])\n",
    "|   np_mat + np_mat"
   ]
  },
  {
   "cell_type": "raw",
   "metadata": {},
   "source": [
    "np_baseball is coded for you; it's again a 2D numpy array with 3 columns representing height, weight and age.\n",
    "\n",
    "Instructions\n",
    "\n",
    "*   You managed to get hold of the changes in weight, height and age of all baseball players. It is available as a 2D numpy \n",
    "    array, updated. Add np_baseball and updated and print out the result.\n",
    "*   You want to convert the units of height and weight. As a first step, create a numpy array with three values: 0.0254, \n",
    "    0.453592 and 1. Name this array conversion.\n",
    "*   Multiply np_baseball with conversion and print out the result."
   ]
  },
  {
   "cell_type": "code",
   "execution_count": 2,
   "metadata": {},
   "outputs": [],
   "source": [
    "# Import numpy package\n",
    "import numpy as np\n",
    "import pandas as pd"
   ]
  },
  {
   "cell_type": "code",
   "execution_count": 3,
   "metadata": {},
   "outputs": [],
   "source": [
    "# updated is available as 2D numpy array\n",
    "baseball = pd.read_csv(\"baseball.csv\")"
   ]
  },
  {
   "cell_type": "code",
   "execution_count": 14,
   "metadata": {},
   "outputs": [],
   "source": [
    "# Create np_baseball (3 cols)\n",
    "np_baseball = np.array(baseball.iloc[:,3])\n",
    "updated = np.array(baseball.iloc[:,4:])"
   ]
  },
  {
   "cell_type": "code",
   "execution_count": 15,
   "metadata": {},
   "outputs": [
    {
     "ename": "ValueError",
     "evalue": "operands could not be broadcast together with shapes (1015,) (1015,3) ",
     "output_type": "error",
     "traceback": [
      "\u001b[1;31m---------------------------------------------------------------------------\u001b[0m",
      "\u001b[1;31mValueError\u001b[0m                                Traceback (most recent call last)",
      "\u001b[1;32m<ipython-input-15-b339eb80a6ad>\u001b[0m in \u001b[0;36m<module>\u001b[1;34m\u001b[0m\n\u001b[0;32m      1\u001b[0m \u001b[1;31m# Print out addition of np_baseball and updated\u001b[0m\u001b[1;33m\u001b[0m\u001b[1;33m\u001b[0m\u001b[1;33m\u001b[0m\u001b[0m\n\u001b[1;32m----> 2\u001b[1;33m \u001b[0mprint\u001b[0m\u001b[1;33m(\u001b[0m\u001b[0mnp_baseball\u001b[0m \u001b[1;33m+\u001b[0m \u001b[0mupdated\u001b[0m\u001b[1;33m)\u001b[0m\u001b[1;33m\u001b[0m\u001b[1;33m\u001b[0m\u001b[0m\n\u001b[0m",
      "\u001b[1;31mValueError\u001b[0m: operands could not be broadcast together with shapes (1015,) (1015,3) "
     ]
    }
   ],
   "source": [
    "# Print out addition of np_baseball and updated\n",
    "print(np_baseball + updated)"
   ]
  },
  {
   "cell_type": "code",
   "execution_count": 16,
   "metadata": {},
   "outputs": [],
   "source": [
    "# Create numpy array: conversion\n",
    "conversion = np.array([0.0254, 0.453592, 1.0])"
   ]
  },
  {
   "cell_type": "code",
   "execution_count": 17,
   "metadata": {},
   "outputs": [
    {
     "ename": "ValueError",
     "evalue": "operands could not be broadcast together with shapes (1015,) (3,) ",
     "output_type": "error",
     "traceback": [
      "\u001b[1;31m---------------------------------------------------------------------------\u001b[0m",
      "\u001b[1;31mValueError\u001b[0m                                Traceback (most recent call last)",
      "\u001b[1;32m<ipython-input-17-51a6d8ed8937>\u001b[0m in \u001b[0;36m<module>\u001b[1;34m\u001b[0m\n\u001b[0;32m      1\u001b[0m \u001b[1;31m# Print out product of np_baseball and conversion\u001b[0m\u001b[1;33m\u001b[0m\u001b[1;33m\u001b[0m\u001b[1;33m\u001b[0m\u001b[0m\n\u001b[1;32m----> 2\u001b[1;33m \u001b[0mprint\u001b[0m\u001b[1;33m(\u001b[0m\u001b[0mnp_baseball\u001b[0m \u001b[1;33m*\u001b[0m \u001b[0mconversion\u001b[0m\u001b[1;33m)\u001b[0m\u001b[1;33m\u001b[0m\u001b[1;33m\u001b[0m\u001b[0m\n\u001b[0m",
      "\u001b[1;31mValueError\u001b[0m: operands could not be broadcast together with shapes (1015,) (3,) "
     ]
    }
   ],
   "source": [
    "# Print out product of np_baseball and conversion\n",
    "print(np_baseball * conversion)"
   ]
  },
  {
   "cell_type": "code",
   "execution_count": null,
   "metadata": {},
   "outputs": [],
   "source": []
  }
 ],
 "metadata": {
  "kernelspec": {
   "display_name": "Python 3",
   "language": "python",
   "name": "python3"
  },
  "language_info": {
   "codemirror_mode": {
    "name": "ipython",
    "version": 3
   },
   "file_extension": ".py",
   "mimetype": "text/x-python",
   "name": "python",
   "nbconvert_exporter": "python",
   "pygments_lexer": "ipython3",
   "version": "3.7.1"
  }
 },
 "nbformat": 4,
 "nbformat_minor": 2
}
